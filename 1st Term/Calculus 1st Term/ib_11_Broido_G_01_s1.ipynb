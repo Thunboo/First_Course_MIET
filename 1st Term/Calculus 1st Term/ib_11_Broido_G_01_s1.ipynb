{
 "cells": [
  {
   "cell_type": "code",
   "execution_count": 25,
   "id": "1f3cbb8d-234d-4467-8ce5-cdab5c492155",
   "metadata": {},
   "outputs": [],
   "source": [
    "x=2*3"
   ]
  },
  {
   "cell_type": "code",
   "execution_count": 26,
   "id": "fabdf7aa-b224-40d8-86db-63b9df2d454b",
   "metadata": {},
   "outputs": [
    {
     "name": "stdout",
     "output_type": "stream",
     "text": [
      "7\n"
     ]
    }
   ],
   "source": [
    "k=3+4 #Вводим переменную\n",
    "print(k) #Выводим значение переменной на экран"
   ]
  },
  {
   "cell_type": "code",
   "execution_count": 27,
   "id": "4864b13c-7300-4b0f-bfd3-85755c7a31da",
   "metadata": {},
   "outputs": [
    {
     "data": {
      "text/plain": [
       "48"
      ]
     },
     "execution_count": 27,
     "metadata": {},
     "output_type": "execute_result"
    }
   ],
   "source": [
    "(k+1)*(k-1)"
   ]
  },
  {
   "cell_type": "code",
   "execution_count": 28,
   "id": "fc95adc0-5f7f-49db-9aee-e8b0f47317df",
   "metadata": {},
   "outputs": [
    {
     "data": {
      "text/plain": [
       "35"
      ]
     },
     "execution_count": 28,
     "metadata": {},
     "output_type": "execute_result"
    }
   ],
   "source": [
    "(x+1)*(x-1)"
   ]
  },
  {
   "cell_type": "code",
   "execution_count": 39,
   "id": "4dc114e3-d097-48b6-b8d1-32fb04fdbd9f",
   "metadata": {},
   "outputs": [],
   "source": [
    "# УПРАЖНЕНИЕ 2\n",
    "# Выводим данные о всех введенных переменных\n",
    "# Затем убираем все переменные\n",
    "# Проверяем, удалились ли переменные"
   ]
  },
  {
   "cell_type": "code",
   "execution_count": 32,
   "id": "92e9d158-d93a-4494-871a-46a20e38bb07",
   "metadata": {},
   "outputs": [
    {
     "name": "stdout",
     "output_type": "stream",
     "text": [
      "Variable   Type       Data/Info\n",
      "-------------------------------\n",
      "Pi_Vs      ndarray    6: 6 elems, type `float64`, 48 bytes\n",
      "Values     ndarray    9: 9 elems, type `float64`, 72 bytes\n",
      "k          int        7\n",
      "np         module     <module 'numpy' from 'C:\\<...>ges\\\\numpy\\\\__init__.py'>\n",
      "value      float64    2.0\n",
      "x          int        6\n"
     ]
    }
   ],
   "source": [
    "%whos"
   ]
  },
  {
   "cell_type": "code",
   "execution_count": 34,
   "id": "f86c0d75-dcfc-4497-9e52-708ee1b82500",
   "metadata": {},
   "outputs": [
    {
     "name": "stdin",
     "output_type": "stream",
     "text": [
      "Once deleted, variables cannot be recovered. Proceed (y/[n])?  y\n"
     ]
    }
   ],
   "source": [
    "%reset"
   ]
  },
  {
   "cell_type": "code",
   "execution_count": 35,
   "id": "a1949597-9084-4c36-be30-d51483bec792",
   "metadata": {},
   "outputs": [
    {
     "name": "stdout",
     "output_type": "stream",
     "text": [
      "Interactive namespace is empty.\n"
     ]
    }
   ],
   "source": [
    "%whos"
   ]
  },
  {
   "cell_type": "code",
   "execution_count": 40,
   "id": "1da93e93-6e4b-4d9b-a5ac-c7cfed379b94",
   "metadata": {},
   "outputs": [
    {
     "name": "stdout",
     "output_type": "stream",
     "text": [
      "Variable   Type    Data/Info\n",
      "----------------------------\n",
      "t          int     4\n",
      "x          int     1\n",
      "y          int     2\n",
      "z          int     3\n"
     ]
    }
   ],
   "source": [
    "# УПРАЖНЕНИЕ 3\n",
    "x,y,z,t=1,2,3,4 #Вводим новые переменные\n",
    "%whos"
   ]
  },
  {
   "cell_type": "code",
   "execution_count": 38,
   "id": "0d38ba90-e223-463d-8dec-4fb6e1cdde21",
   "metadata": {},
   "outputs": [
    {
     "name": "stdout",
     "output_type": "stream",
     "text": [
      "Variable   Type    Data/Info\n",
      "----------------------------\n",
      "t          int     4\n",
      "y          int     2\n",
      "z          int     3\n"
     ]
    }
   ],
   "source": [
    "del(x) #Удаляем из памяти конкретную переменную\n",
    "%whos"
   ]
  },
  {
   "cell_type": "markdown",
   "id": "e6b31ddb-d56d-4b9f-8455-1ef83407afcc",
   "metadata": {},
   "source": [
    "$\\begin{bmatrix} 1 & 2 & 1 \\\\ 3 & 0 & 1 \\\\ 0 & 2 & 4 \\end{bmatrix}$"
   ]
  },
  {
   "cell_type": "code",
   "execution_count": 41,
   "id": "edfc6a78-8f0e-4ba4-94a9-f44be099cd9c",
   "metadata": {},
   "outputs": [
    {
     "name": "stdout",
     "output_type": "stream",
     "text": [
      "[ 1  3 -1]\n"
     ]
    }
   ],
   "source": [
    "import numpy as np\n",
    "B = np.array( [1, 3,-1] ) #Создаем вектор-строку\n",
    "print(B)"
   ]
  },
  {
   "cell_type": "code",
   "execution_count": 42,
   "id": "f88e64ef-05a7-423f-a1c9-72805f10007f",
   "metadata": {},
   "outputs": [
    {
     "name": "stdout",
     "output_type": "stream",
     "text": [
      "[[1 2 3 4]\n",
      " [0 1 3 2]]\n"
     ]
    }
   ],
   "source": [
    "import numpy as np\n",
    "A = np.array( [ [1, 2, 3, 4], [0, 1, 3, 2] ] ) #Матрица 4х2\n",
    "print(A)"
   ]
  },
  {
   "cell_type": "code",
   "execution_count": 20,
   "id": "7b56ed41-3186-4307-ba4d-e414b281ad4b",
   "metadata": {},
   "outputs": [
    {
     "name": "stdout",
     "output_type": "stream",
     "text": [
      "[1 0]\n",
      "[[0 1 3 2]]\n"
     ]
    }
   ],
   "source": [
    "print(A[:,0]) # столбец\n",
    "print(A[1:,]) # строка"
   ]
  },
  {
   "cell_type": "code",
   "execution_count": 21,
   "id": "724ad1f0-569f-4188-8d0e-4f6cb6b17d38",
   "metadata": {},
   "outputs": [
    {
     "name": "stdout",
     "output_type": "stream",
     "text": [
      "[1 3 5 7]\n"
     ]
    }
   ],
   "source": [
    "v = np.arange(1,8,2) # Генератор\n",
    "print(v)"
   ]
  },
  {
   "cell_type": "code",
   "execution_count": 44,
   "id": "6095083f-d942-4162-b6bc-fd0b2719204e",
   "metadata": {},
   "outputs": [
    {
     "name": "stdout",
     "output_type": "stream",
     "text": [
      "A= [0 1 2 3]\n",
      "B= [[ 0  1  2  3  4  5]\n",
      " [ 6  7  8  9 10 11]]\n"
     ]
    }
   ],
   "source": [
    "import numpy as np\n",
    "A = np.arange(4)\n",
    "print('A=', A)\n",
    "B = np.arange(12).reshape(2,6) # Создаём матрицу 6х2 при помощи\n",
    "                               # генератора и изменения формы\n",
    "print('B=', B)"
   ]
  },
  {
   "cell_type": "code",
   "execution_count": 45,
   "id": "22c54a6f-1e1f-437d-b50a-cce7d5bf3dca",
   "metadata": {},
   "outputs": [
    {
     "name": "stdout",
     "output_type": "stream",
     "text": [
      "(4,)\n"
     ]
    }
   ],
   "source": [
    "print(np.shape(A)) # вЫводим форму матрицы А"
   ]
  },
  {
   "cell_type": "code",
   "execution_count": 46,
   "id": "7d1f81fc-1e8e-4e5a-8a37-11618c911996",
   "metadata": {},
   "outputs": [
    {
     "name": "stdout",
     "output_type": "stream",
     "text": [
      "[-1.          1.41421356  3.        ]\n"
     ]
    }
   ],
   "source": [
    "# Используем нестандартные значения, введённые при помощи\n",
    "# математических функция библиотеки numpy\n",
    "import numpy as np\n",
    "S = np.array( [-1, np.sqrt(2), np.abs(-3)] )\n",
    "print(S)"
   ]
  },
  {
   "cell_type": "code",
   "execution_count": 26,
   "id": "97e9d204-25d4-4ee3-b27f-a2656abd56a6",
   "metadata": {},
   "outputs": [
    {
     "name": "stdin",
     "output_type": "stream",
     "text": [
      "Once deleted, variables cannot be recovered. Proceed (y/[n])?  y\n"
     ]
    }
   ],
   "source": [
    "%reset"
   ]
  },
  {
   "cell_type": "code",
   "execution_count": null,
   "id": "ec03aa67-b4eb-497c-8053-9f6f3e7f4100",
   "metadata": {},
   "outputs": [],
   "source": [
    "#УПРАЖНЕНИЕ 4"
   ]
  },
  {
   "cell_type": "markdown",
   "id": "4b570ff0-e350-4cd2-9599-c600aeba8a7c",
   "metadata": {},
   "source": [
    "$\\begin{bmatrix} 0 & 1 & 2 & 3 \\\\ 4 & 5 & 6 & 7 \\\\ 8 & 9 & 10 & 11 \\end{bmatrix}$"
   ]
  },
  {
   "cell_type": "code",
   "execution_count": 47,
   "id": "4632afa7-207f-45bb-840f-c5fa76e05e39",
   "metadata": {},
   "outputs": [
    {
     "name": "stdout",
     "output_type": "stream",
     "text": [
      "[[ 0  1  2  3]\n",
      " [ 4  5  6  7]\n",
      " [ 8  9 10 11]]\n"
     ]
    }
   ],
   "source": [
    "import numpy as np\n",
    "# Задаём матрицу размером 4х3\n",
    "R = np.array( [ [0,1,2,3], [4,5,6,7], [8,9,10,11] ] )\n",
    "print(R)"
   ]
  },
  {
   "cell_type": "code",
   "execution_count": 36,
   "id": "0b785cc3-e208-4783-a4bf-cd9382b3711a",
   "metadata": {},
   "outputs": [
    {
     "name": "stdout",
     "output_type": "stream",
     "text": [
      "[[ 0  6 -6  9]\n",
      " [ 4 10  6  7]\n",
      " [ 8 18 10 11]]\n"
     ]
    }
   ],
   "source": [
    "#ПУНКТ 2\n",
    "R[2,3] = -R[2,3]\n",
    "print(R)"
   ]
  },
  {
   "cell_type": "code",
   "execution_count": 37,
   "id": "02c856da-6835-480f-a1a5-bcaa678a32d7",
   "metadata": {},
   "outputs": [
    {
     "name": "stdout",
     "output_type": "stream",
     "text": [
      "[[  0   6 -10   9]\n",
      " [  4  10   6   7]\n",
      " [  8  18  10  11]]\n"
     ]
    }
   ],
   "source": [
    "R[0,2] -= 4\n",
    "print(R)"
   ]
  },
  {
   "cell_type": "code",
   "execution_count": 38,
   "id": "2669bd54-3e06-448b-b38c-ca7f19a4eb82",
   "metadata": {},
   "outputs": [
    {
     "name": "stdout",
     "output_type": "stream",
     "text": [
      "[[  0  36 -30  27]\n",
      " [  4  20   6   7]\n",
      " [  8  36  10  11]]\n"
     ]
    }
   ],
   "source": [
    "for i in range(3):\n",
    "    R[i,1] *= 2\n",
    "for i in range(4):\n",
    "    R[0,i] *= 3\n",
    "print(R)"
   ]
  },
  {
   "cell_type": "code",
   "execution_count": 48,
   "id": "3e88fc4c-0ebf-4c82-94c1-710f3ee5cebe",
   "metadata": {},
   "outputs": [
    {
     "name": "stdout",
     "output_type": "stream",
     "text": [
      "[0, 0, 0, 0, 0]\n",
      "[[0], [0]]\n"
     ]
    }
   ],
   "source": [
    "# ПУНКТ 3\n",
    "v_line_1 = [0]*5\n",
    "v_line_2 = [0]*7\n",
    "v_etc_1 = [ [0] ] * 2\n",
    "v_etc_2 = [ [0] ] * 5\n",
    "v_etc_3 = [ [0] ] * 7 \n",
    "print(v_line_1)\n",
    "print(v_etc_1)\n",
    "# УПРАЖНЕНИЕ ВЫПОЛНЕНО"
   ]
  },
  {
   "cell_type": "code",
   "execution_count": 43,
   "id": "35a7de09-934b-4861-858c-68ccb3a1faeb",
   "metadata": {},
   "outputs": [
    {
     "name": "stdin",
     "output_type": "stream",
     "text": [
      "Once deleted, variables cannot be recovered. Proceed (y/[n])?  y\n"
     ]
    }
   ],
   "source": [
    "%reset"
   ]
  },
  {
   "cell_type": "code",
   "execution_count": 42,
   "id": "f453495e-342c-4bda-9a0a-f60d78016bec",
   "metadata": {},
   "outputs": [],
   "source": [
    "#УПРАЖНЕНИЕ 5"
   ]
  },
  {
   "cell_type": "code",
   "execution_count": 50,
   "id": "ea6c4863-3e30-4b1e-928e-bb4fef623121",
   "metadata": {},
   "outputs": [],
   "source": [
    "# ПУНКТ 1\n",
    "import numpy as np\n",
    "import numpy.matlib\n",
    "A = np.matlib.matrix('1, 2, 3; 4, 5, 6')\n",
    "B = np.matlib.matrix('1, -2, 1; -2, 3, 4')\n",
    "c = 2\n",
    "D = np.matlib.ones((2,3))\n",
    "E = np.matlib.eye(3,3)"
   ]
  },
  {
   "cell_type": "code",
   "execution_count": 51,
   "id": "75b128a2-9144-4aa8-8dce-95d65ec87573",
   "metadata": {},
   "outputs": [
    {
     "name": "stdout",
     "output_type": "stream",
     "text": [
      "[[1 2 3]\n",
      " [4 5 6]]\n",
      "[[ 1 -2  1]\n",
      " [-2  3  4]]\n",
      "2\n",
      "[[1. 1. 1.]\n",
      " [1. 1. 1.]]\n",
      "[[1. 0. 0.]\n",
      " [0. 1. 0.]\n",
      " [0. 0. 1.]]\n"
     ]
    }
   ],
   "source": [
    "print(A)\n",
    "print(B)\n",
    "print(c)\n",
    "print(D)\n",
    "print(E)"
   ]
  },
  {
   "cell_type": "code",
   "execution_count": 52,
   "id": "f4b102a2-3286-412b-bfe2-f80a22a4edb9",
   "metadata": {},
   "outputs": [
    {
     "name": "stdout",
     "output_type": "stream",
     "text": [
      "[[ 2  0  4]\n",
      " [ 2  8 10]]\n"
     ]
    }
   ],
   "source": [
    "# ПУНКТ 2\n",
    "print(A+B)"
   ]
  },
  {
   "cell_type": "code",
   "execution_count": 53,
   "id": "97d2137f-d152-4947-b115-985602ac59df",
   "metadata": {},
   "outputs": [
    {
     "name": "stdout",
     "output_type": "stream",
     "text": [
      "[[3 4 5]\n",
      " [6 7 8]]\n"
     ]
    }
   ],
   "source": [
    "print(A+c)"
   ]
  },
  {
   "cell_type": "code",
   "execution_count": 54,
   "id": "9729c385-f77a-4c97-9f40-92de340800cf",
   "metadata": {},
   "outputs": [],
   "source": [
    "#print(A+E) # INVALID, different shapes"
   ]
  },
  {
   "cell_type": "code",
   "execution_count": 55,
   "id": "16f412f1-7618-47be-837f-a5a33f7f0008",
   "metadata": {},
   "outputs": [
    {
     "name": "stdout",
     "output_type": "stream",
     "text": [
      "[[0 4 2]\n",
      " [6 2 2]]\n"
     ]
    }
   ],
   "source": [
    "print(A-B)"
   ]
  },
  {
   "cell_type": "code",
   "execution_count": 56,
   "id": "e1ed6afa-480d-4ba2-95cf-bee9b9dfcf83",
   "metadata": {},
   "outputs": [
    {
     "name": "stdout",
     "output_type": "stream",
     "text": [
      "[[-1  0  1]\n",
      " [ 2  3  4]]\n"
     ]
    }
   ],
   "source": [
    "print(A-c)"
   ]
  },
  {
   "cell_type": "code",
   "execution_count": 69,
   "id": "47050950-ca27-44d4-8b5c-b91e5a0f6a04",
   "metadata": {},
   "outputs": [
    {
     "name": "stdout",
     "output_type": "stream",
     "text": [
      "[[ 2  4  6]\n",
      " [ 8 10 12]]\n"
     ]
    }
   ],
   "source": [
    "print(c*A)"
   ]
  },
  {
   "cell_type": "code",
   "execution_count": 57,
   "id": "008246bd-5fc6-4fd9-908c-16ec313daea5",
   "metadata": {},
   "outputs": [],
   "source": [
    "#print(A*B) # ERROR \n",
    "# НЕСООТВЕТСТВИЕ ПРАВИЛУ ПЕРЕМНОЖЕНИЯ МАТРИЦ"
   ]
  },
  {
   "cell_type": "code",
   "execution_count": 68,
   "id": "a61c2519-f820-4cf6-bd07-5953713d0606",
   "metadata": {},
   "outputs": [
    {
     "name": "stdout",
     "output_type": "stream",
     "text": [
      "Help on ufunc:\n",
      "\n",
      "fabs = <ufunc 'fabs'>\n",
      "    fabs(x, /, out=None, *, where=True, casting='same_kind', order='K', dtype=None, subok=True[, signature, extobj])\n",
      "    \n",
      "    Compute the absolute values element-wise.\n",
      "    \n",
      "    This function returns the absolute values (positive magnitude) of the\n",
      "    data in `x`. Complex values are not handled, use `absolute` to find the\n",
      "    absolute values of complex data.\n",
      "    \n",
      "    Parameters\n",
      "    ----------\n",
      "    x : array_like\n",
      "        The array of numbers for which the absolute values are required. If\n",
      "        `x` is a scalar, the result `y` will also be a scalar.\n",
      "    out : ndarray, None, or tuple of ndarray and None, optional\n",
      "        A location into which the result is stored. If provided, it must have\n",
      "        a shape that the inputs broadcast to. If not provided or None,\n",
      "        a freshly-allocated array is returned. A tuple (possible only as a\n",
      "        keyword argument) must have length equal to the number of outputs.\n",
      "    where : array_like, optional\n",
      "        This condition is broadcast over the input. At locations where the\n",
      "        condition is True, the `out` array will be set to the ufunc result.\n",
      "        Elsewhere, the `out` array will retain its original value.\n",
      "        Note that if an uninitialized `out` array is created via the default\n",
      "        ``out=None``, locations within it where the condition is False will\n",
      "        remain uninitialized.\n",
      "    **kwargs\n",
      "        For other keyword-only arguments, see the\n",
      "        :ref:`ufunc docs <ufuncs.kwargs>`.\n",
      "    \n",
      "    Returns\n",
      "    -------\n",
      "    y : ndarray or scalar\n",
      "        The absolute values of `x`, the returned values are always floats.\n",
      "        This is a scalar if `x` is a scalar.\n",
      "    \n",
      "    See Also\n",
      "    --------\n",
      "    absolute : Absolute values including `complex` types.\n",
      "    \n",
      "    Examples\n",
      "    --------\n",
      "    >>> np.fabs(-1)\n",
      "    1.0\n",
      "    >>> np.fabs([-1.2, 1.2])\n",
      "    array([ 1.2,  1.2])\n",
      "\n"
     ]
    }
   ],
   "source": [
    "help (np.fabs)"
   ]
  },
  {
   "cell_type": "code",
   "execution_count": 71,
   "id": "c04e6f3e-4138-4fac-9ef5-6c5293290a52",
   "metadata": {},
   "outputs": [
    {
     "name": "stdout",
     "output_type": "stream",
     "text": [
      "[[ 0.84147098  0.14112001 -0.7568025 ]\n",
      " [-0.2794155   0.84147098  0.        ]]\n"
     ]
    }
   ],
   "source": [
    "import numpy as np\n",
    "x = np.array([[1,3,4],[6,1,0]])\n",
    "A=np.sin(x)\n",
    "print(A)"
   ]
  },
  {
   "cell_type": "code",
   "execution_count": 73,
   "id": "a31cac79-e216-48e1-970d-41b52c4c01d2",
   "metadata": {},
   "outputs": [
    {
     "name": "stdin",
     "output_type": "stream",
     "text": [
      "Once deleted, variables cannot be recovered. Proceed (y/[n])?  y\n"
     ]
    }
   ],
   "source": [
    "%reset"
   ]
  },
  {
   "cell_type": "code",
   "execution_count": 72,
   "id": "a49b55df-0a2f-4b28-8acc-90e642d60afa",
   "metadata": {},
   "outputs": [],
   "source": [
    "#УПРАЖНЕНИЕ 7"
   ]
  },
  {
   "cell_type": "code",
   "execution_count": 58,
   "id": "a6661d70-95c2-41c6-aca9-0f5a26147e14",
   "metadata": {},
   "outputs": [
    {
     "name": "stdout",
     "output_type": "stream",
     "text": [
      "[1.         1.73205081 2.23606798]\n"
     ]
    }
   ],
   "source": [
    "import numpy as np\n",
    "V = np.array( [1,3,5] ) # Вводим изначальные числа\n",
    "V_roots = np.sqrt(V) \n",
    "# Получаем новый массив с корнями чисел из первого\n",
    "print(V_roots)\n",
    "# ГОТОВО"
   ]
  },
  {
   "cell_type": "code",
   "execution_count": 78,
   "id": "962e6076-6494-4e7a-9318-ef9eeb05c54f",
   "metadata": {},
   "outputs": [
    {
     "name": "stdin",
     "output_type": "stream",
     "text": [
      "Once deleted, variables cannot be recovered. Proceed (y/[n])?  y\n"
     ]
    }
   ],
   "source": [
    "%reset"
   ]
  },
  {
   "cell_type": "code",
   "execution_count": 77,
   "id": "b1ae0526-7e31-47ad-a27e-809975a4e04b",
   "metadata": {},
   "outputs": [],
   "source": [
    "# C1"
   ]
  },
  {
   "cell_type": "code",
   "execution_count": 59,
   "id": "ec8f4783-ce2d-45b6-8341-a80c4ad4997c",
   "metadata": {},
   "outputs": [
    {
     "name": "stdout",
     "output_type": "stream",
     "text": [
      "[-6  0  6 12 18 24 30]\n",
      "9\n"
     ]
    }
   ],
   "source": [
    "import numpy as np\n",
    "V_1 = np.arange(-2,11,2) # Задаём вектор-строку при помощи генератора\n",
    "V_1 *= 3                 #Утраиваем все элементы в вектор-строке\n",
    "print(V_1)\n",
    "V_2 = np.arange(45,4,-5) # Задаём вектор-строку\n",
    "print(V_2.size) # Выводим размерность вектор-строки"
   ]
  },
  {
   "cell_type": "code",
   "execution_count": 82,
   "id": "b2922e9d-e041-4d73-ab17-f052e4972264",
   "metadata": {},
   "outputs": [],
   "source": [
    "# C2"
   ]
  },
  {
   "cell_type": "code",
   "execution_count": 10,
   "id": "6f067770-ffb8-4162-9f0d-851dae48b6b5",
   "metadata": {},
   "outputs": [
    {
     "name": "stdout",
     "output_type": "stream",
     "text": [
      "\n",
      "Cosine, Sine, Tangent for 0.0 equals:\n",
      "1.0 0.0 0.0\n",
      "\n",
      "Cosine, Sine, Tangent for 0.5235987755982988 equals:\n",
      "0.8660254037844387 0.49999999999999994 0.5773502691896257\n",
      "\n",
      "Cosine, Sine, Tangent for 1.0471975511965976 equals:\n",
      "0.5000000000000001 0.8660254037844386 1.7320508075688767\n",
      "\n",
      "Cosine, Sine, Tangent for 1.5707963267948966 equals:\n",
      "6.123233995736766e-17 1.0 1.633123935319537e+16\n",
      "\n",
      "Cosine, Sine, Tangent for 3.141592653589793 equals:\n",
      "-1.0 1.2246467991473532e-16 -1.2246467991473532e-16\n",
      "\n",
      "Cosine, Sine, Tangent for 6.283185307179586 equals:\n",
      "1.0 -2.4492935982947064e-16 -2.4492935982947064e-16\n"
     ]
    }
   ],
   "source": [
    "#Первое задание\n",
    "import numpy as np\n",
    "Pi_Vs = np.array( [0, np.pi / 6, np.pi / 3, np.pi / 2, np.pi, 2*np.pi] )\n",
    "#Записали значения углов в радианах\n",
    "for value in Pi_Vs:\n",
    "    print(f'\\nCosine, Sine, Tangent for {value} equals:')\n",
    "    print(np.cos(value), np.sin(value), np.tan(value))\n",
    "#Вывели все значения тригонометрических функций для заданных углов"
   ]
  },
  {
   "cell_type": "code",
   "execution_count": 12,
   "id": "ac52a968-23a2-4139-b288-c5efbcc11abb",
   "metadata": {},
   "outputs": [
    {
     "name": "stdout",
     "output_type": "stream",
     "text": [
      "Value: -2.0 | Result: 1.0000000000000018\n",
      "Value: -1.5 | Result: 1.0000000000000009\n",
      "Value: -1.0 | Result: 1.0000000000000002\n",
      "Value: -0.5 | Result: 0.9999999999999998\n",
      "Value: 0.0 | Result: 1.0\n",
      "Value: 0.5 | Result: 0.9999999999999998\n",
      "Value: 1.0 | Result: 1.0000000000000002\n",
      "Value: 1.5 | Result: 1.0000000000000009\n",
      "Value: 2.0 | Result: 1.0000000000000018\n"
     ]
    }
   ],
   "source": [
    "#Второе задание\n",
    "import numpy as np\n",
    "Values = np.arange(-2,2.5,0.5) #Получаем нужные значения с помощью генератора\n",
    "for value in Values:\n",
    "    print(f'Value: {value} | Result: { (np.cosh(value))**2 - (np.sinh(value))**2 }')\n",
    "#Выводим итог на экран          "
   ]
  },
  {
   "cell_type": "code",
   "execution_count": null,
   "id": "5a9446dd-3006-408c-9931-4a6c4cdaa629",
   "metadata": {},
   "outputs": [],
   "source": [
    "# ТРЕТЬЕ ЗАДАНИЕ\n",
    "# 1) Имена переменных начинаются с буквы\n",
    "#    максимальная длина - 63 символа\n",
    "#    можно использовать символы подчёркивания, цифры, большие и \n",
    "#    малые буквы латиницы\n",
    "# 2) Информацию о переменных рабочего пространства можно получить\n",
    "#    с помощью команды \"%whos\"\n",
    "# 3) Подробную информацию о функции или команде можно получить, \n",
    "#    написав \"help (*имя_функции*)\"\n",
    "# 4) Матрицу произвольной размерности можно задать, используя\n",
    "#    массив с данными, применив к нему функцию np.reshape(x,y) \n",
    "#    из библиотеки numpy\n",
    "# 5) С помощью соответствующих знаков математических операций:\n",
    "#    +   -   *    /\n",
    "\n",
    "# ВЫВОД: На этой лабораторной работе мы повторили основы синтаксиса python, научились пользоваться библиотекой numpy."
   ]
  }
 ],
 "metadata": {
  "kernelspec": {
   "display_name": "Python 3 (ipykernel)",
   "language": "python",
   "name": "python3"
  },
  "language_info": {
   "codemirror_mode": {
    "name": "ipython",
    "version": 3
   },
   "file_extension": ".py",
   "mimetype": "text/x-python",
   "name": "python",
   "nbconvert_exporter": "python",
   "pygments_lexer": "ipython3",
   "version": "3.10.9"
  }
 },
 "nbformat": 4,
 "nbformat_minor": 5
}
