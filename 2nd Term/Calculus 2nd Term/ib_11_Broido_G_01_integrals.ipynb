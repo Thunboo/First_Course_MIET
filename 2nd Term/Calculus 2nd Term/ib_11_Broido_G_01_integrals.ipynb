{
 "cells": [
  {
   "cell_type": "code",
   "execution_count": 37,
   "metadata": {},
   "outputs": [
    {
     "name": "stdout",
     "output_type": "stream",
     "text": [
      "⎛ 3      2          ⎞  x\n",
      "⎝x  - 3⋅x  + 6⋅x - 6⎠⋅ℯ \n"
     ]
    }
   ],
   "source": [
    "from sympy import *\n",
    "import numpy as np \n",
    "from scipy import optimize\n",
    "\n",
    "x = symbols('x')\n",
    "I = integrate(x**3*exp(x), x)\n",
    "pprint(I)"
   ]
  },
  {
   "cell_type": "code",
   "execution_count": 38,
   "metadata": {},
   "outputs": [
    {
     "name": "stdout",
     "output_type": "stream",
     "text": [
      "  x⋅cos(5⋅x)   sin(5⋅x)\n",
      "- ────────── + ────────\n",
      "      5           25   \n",
      "\n",
      "                      ⎛ 2    ⎞                       \n",
      "  4⋅log(x - 2)   2⋅log⎝x  + 1⎠   3⋅atan(x)      1    \n",
      "- ──────────── + ───────────── + ───────── - ────────\n",
      "       25              25            25      5⋅x - 10\n"
     ]
    }
   ],
   "source": [
    "# упр 1\n",
    "I = integrate(x*sin(5*x), x)\n",
    "pprint(I)\n",
    "print()\n",
    "pprint(integrate(1/ ((x**2 + 1) * ( (x-2)**2 )), x))"
   ]
  },
  {
   "cell_type": "code",
   "execution_count": 39,
   "metadata": {},
   "outputs": [
    {
     "name": "stdout",
     "output_type": "stream",
     "text": [
      "π\n",
      "─\n",
      "2\n",
      "\n",
      "       3\n",
      "1   2⋅ℯ \n",
      "─ + ────\n",
      "9    9  \n"
     ]
    }
   ],
   "source": [
    "# упр 2\n",
    "# a\n",
    "pprint(integrate(sqrt(1 - x**2), (x,-1,1)))\n",
    "\n",
    "print()\n",
    "# b\n",
    "pprint(integrate(x*exp(3*x), (x, 0, 1)))"
   ]
  },
  {
   "cell_type": "code",
   "execution_count": 40,
   "metadata": {},
   "outputs": [
    {
     "name": "stdout",
     "output_type": "stream",
     "text": [
      "1.375, \"слева\"\n",
      "1.625, \"справа\"\n"
     ]
    }
   ],
   "source": [
    "# упр 3\n",
    "def my_integration(f,a,b,n):\n",
    "    d = (b - a) / n\n",
    "    I = 0\n",
    "    for i in range(n):\n",
    "        I += d * f(a + d*i)\n",
    "    print(f'{I:.3f}, \"слева\"')\n",
    "\n",
    "    I = 0\n",
    "    for i in range(n):\n",
    "        I += d * f(b - d*i)\n",
    "    print(f'{I:.3f}, \"справа\"')\n",
    "    return\n",
    "\n",
    "def f(x):\n",
    "    return x\n",
    "\n",
    "my_integration(f,1,2,4)"
   ]
  },
  {
   "cell_type": "code",
   "execution_count": 41,
   "metadata": {},
   "outputs": [
    {
     "data": {
      "text/plain": [
       "('1.505', '1.495')"
      ]
     },
     "execution_count": 41,
     "metadata": {},
     "output_type": "execute_result"
    }
   ],
   "source": [
    "# упр 4\n",
    "def s_d(f, a, b ,n):\n",
    "    d = (b - a) / n  # можно через линспэйс с n+1 точкой\n",
    "    Iu, Id = 0,0\n",
    "    for i in range(n):\n",
    "        x = np.linspace(a + d*i, a + d*(i+1), 100)\n",
    "        M = max(f(x))\n",
    "        m = min(f(x))\n",
    "        Iu += d * M\n",
    "        Id += d * m\n",
    "\n",
    "    return (f'{Iu:.3f}', f'{Id:.3f}')\n",
    "\n",
    "def f(x):\n",
    "    return x\n",
    "\n",
    "s_d(f,1,2,100)"
   ]
  },
  {
   "cell_type": "code",
   "execution_count": 42,
   "metadata": {},
   "outputs": [
    {
     "name": "stdout",
     "output_type": "stream",
     "text": [
      "0.135, \"слева\"\n",
      "0.135, \"справа\"\n",
      "('0.135', '0.135')\n"
     ]
    }
   ],
   "source": [
    "def f(x):\n",
    "    return np.exp(-x**2)\n",
    "my_integration(f,1,2,1000)\n",
    "print(s_d(f,1,2,1000))"
   ]
  },
  {
   "cell_type": "code",
   "execution_count": 43,
   "metadata": {},
   "outputs": [
    {
     "data": {
      "text/plain": [
       "0.9564491424153048"
      ]
     },
     "execution_count": 43,
     "metadata": {},
     "output_type": "execute_result"
    }
   ],
   "source": [
    "import scipy.integrate as integrate\n",
    "x = np.linspace(1,2,1000)\n",
    "integrate.simpson(np.sin(x),x)\n"
   ]
  },
  {
   "cell_type": "code",
   "execution_count": 44,
   "metadata": {},
   "outputs": [
    {
     "name": "stdout",
     "output_type": "stream",
     "text": [
      "0.13525725794995166\n",
      "0.137, \"слева\"\n",
      "0.134, \"справа\"\n",
      "('0.137', '0.134')\n"
     ]
    }
   ],
   "source": [
    "# упр 6\n",
    "\n",
    "print(integrate.simpson(np.exp(-x**2),x))\n",
    "def f(x):\n",
    "    return np.exp(-x**2)\n",
    "my_integration(f,1,2,100)\n",
    "print(s_d(f,1,2,100))"
   ]
  },
  {
   "cell_type": "code",
   "execution_count": 45,
   "metadata": {},
   "outputs": [
    {
     "name": "stdout",
     "output_type": "stream",
     "text": [
      "     ⎛√2⋅(x + 1)⎞\n",
      "asinh⎜──────────⎟\n",
      "     ⎝    2     ⎠\n"
     ]
    }
   ],
   "source": [
    "# C1\n",
    "from sympy import integrate\n",
    "x = symbols('x')\n",
    "I = integrate(1/(sqrt(x**2 + 2*x + 3)),x)\n",
    "pprint(I)\n",
    "#\n",
    "# ln| (x+1)/sqrt(2)  +  sqrt( (x+1)^2 / 2 + 1 ) |\n",
    "# ln| (x+1)          +  sqrt( (x+1)^2     + 2 ) |\n",
    "#"
   ]
  },
  {
   "cell_type": "code",
   "execution_count": 46,
   "metadata": {},
   "outputs": [
    {
     "name": "stdout",
     "output_type": "stream",
     "text": [
      "0.3121329763408383\n",
      "0.322, \"слева\"\n",
      "0.302, \"справа\"\n",
      "('0.332', '0.292')\n"
     ]
    }
   ],
   "source": [
    "# C2\n",
    "import scipy.integrate as integrate\n",
    "def f(x):\n",
    "    return x*np.cos(x**2)\n",
    "x = np.linspace(0,np.pi/2,1000)\n",
    "print(integrate.simpson(f(x),x))\n",
    "my_integration(f,0,np.pi/2,100)\n",
    "print(s_d(f,0,np.pi/2,100))"
   ]
  },
  {
   "cell_type": "code",
   "execution_count": 47,
   "metadata": {},
   "outputs": [
    {
     "name": "stdout",
     "output_type": "stream",
     "text": [
      "1.500\n"
     ]
    }
   ],
   "source": [
    "# C3\n",
    "#%reset\n",
    "def integration_lambda(f,a,b,n,lambda_):\n",
    "    l1, l2 = map(int, lambda_.split(':'))\n",
    "    d = (b - a) / n\n",
    "    I = 0\n",
    "    for i in range(n):\n",
    "        I += d * f(a + l1 * d / (l1 + l2) + d * i)\n",
    "    return f'{I:.3f}'\n",
    "\n",
    "def f(x):\n",
    "    return x\n",
    "\n",
    "print(integration_lambda(f,1,2,4,\"1:1\"))"
   ]
  },
  {
   "cell_type": "code",
   "execution_count": 48,
   "metadata": {},
   "outputs": [
    {
     "name": "stdout",
     "output_type": "stream",
     "text": [
      "_____________________________________________________\n",
      "| 2**n |  Лямбда  |  Дарбу нижняя  |  Дарбу верхняя |\n",
      "_____________________________________________________\n",
      "|  2   | -63.000  |     0.000      |    -112.000    |\n",
      "|  4   | -53.125  |    -16.000     |    -72.000     |\n",
      "|  8   | -46.828  |    -27.000     |    -55.000     |\n",
      "|  16  | -43.463  |    -33.250     |    -47.250     |\n",
      "|  32  | -41.741  |    -36.562     |    -43.562     |\n",
      "|  64  | -40.873  |    -38.266     |    -41.766     |\n",
      "| 128  | -40.437  |    -39.129     |    -40.879     |\n",
      "| 256  | -40.219  |    -39.563     |    -40.438     |\n",
      "| 512  | -40.109  |    -39.781     |    -40.219     |\n",
      "| 1024 | -40.055  |    -39.891     |    -40.109     |\n",
      "_____________________________________________________\n"
     ]
    }
   ],
   "source": [
    "# Индивидуальные задания\n",
    "# №1\n",
    "def f(x): \n",
    "    return 2*x**3\n",
    "\n",
    "import numpy as np\n",
    "import scipy.integrate as integrate\n",
    "x = np.linspace(-3,1,1000)\n",
    "#print(integrate.simpson(2*x**3,x))\n",
    "for n in range(1,11):\n",
    "    s_d(f,-3,1,2**n)\n",
    "\n",
    "print('_____________________________________________________')\n",
    "print('| 2**n |  Лямбда  |  Дарбу нижняя  |  Дарбу верхняя |')\n",
    "print('_____________________________________________________')\n",
    "for n in range(1,11):\n",
    "    s_d_values = s_d(f,-3,1,2**n)\n",
    "    print(\"| {n:^4} | {b:^8} | {c:^14} | {d:^14} |\".format(n=2**n, \n",
    "                                                           b=str(integration_lambda(f,-3,1,2**n,\"1:3\")), \n",
    "                                                           c = s_d_values[0], \n",
    "                                                           d = s_d_values[1] ))\n",
    "print('_____________________________________________________')"
   ]
  },
  {
   "cell_type": "code",
   "execution_count": null,
   "metadata": {},
   "outputs": [],
   "source": []
  }
 ],
 "metadata": {
  "kernelspec": {
   "display_name": "base",
   "language": "python",
   "name": "python3"
  },
  "language_info": {
   "codemirror_mode": {
    "name": "ipython",
    "version": 3
   },
   "file_extension": ".py",
   "mimetype": "text/x-python",
   "name": "python",
   "nbconvert_exporter": "python",
   "pygments_lexer": "ipython3",
   "version": "3.10.11"
  },
  "orig_nbformat": 4
 },
 "nbformat": 4,
 "nbformat_minor": 2
}
