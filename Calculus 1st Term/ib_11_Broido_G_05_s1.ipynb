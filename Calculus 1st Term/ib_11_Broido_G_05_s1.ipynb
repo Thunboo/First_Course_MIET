{
 "cells": [
  {
   "cell_type": "code",
   "execution_count": 1,
   "metadata": {},
   "outputs": [
    {
     "name": "stdout",
     "output_type": "stream",
     "text": [
      "Variable   Type      Data/Info\n",
      "------------------------------\n",
      "sp         module    <module 'sympy' from 'C:\\<...>ges\\\\sympy\\\\__init__.py'>\n",
      "x          Symbol    x\n"
     ]
    }
   ],
   "source": [
    "import sympy as sp\n",
    "x = sp.Symbol('x')\n",
    "%whos"
   ]
  },
  {
   "cell_type": "code",
   "execution_count": 3,
   "metadata": {},
   "outputs": [
    {
     "name": "stdout",
     "output_type": "stream",
     "text": [
      "[a₀, a₁, a₂]\n"
     ]
    }
   ],
   "source": [
    "import sympy as sp\n",
    "\n",
    "n = 3\n",
    "a = [ sp.symbols( 'a%d' % i ) for i in range(n)]\n",
    "sp.pprint(a)"
   ]
  },
  {
   "cell_type": "code",
   "execution_count": 4,
   "metadata": {},
   "outputs": [
    {
     "name": "stdout",
     "output_type": "stream",
     "text": [
      "   2                    2\n",
      "α⋅x  - 3⋅β⋅z + 2⋅x⋅y - z \n"
     ]
    }
   ],
   "source": [
    "import sympy as sp\n",
    "from sympy.abc import x,y,z,alpha, beta\n",
    "\n",
    "sp.pprint(alpha*x**2 + 2*x*y - 3*beta*z - z**2)"
   ]
  },
  {
   "cell_type": "code",
   "execution_count": 5,
   "metadata": {},
   "outputs": [
    {
     "name": "stdout",
     "output_type": "stream",
     "text": [
      "sin(π)\n",
      "0\n"
     ]
    }
   ],
   "source": [
    "import sympy as sp\n",
    "from sympy.abc import pi\n",
    "sp.pprint(sp.sin(pi))\n",
    "print(    sp.sin(sp.pi))"
   ]
  },
  {
   "cell_type": "code",
   "execution_count": 13,
   "metadata": {},
   "outputs": [
    {
     "name": "stdout",
     "output_type": "stream",
     "text": [
      "sp value: 0  np value: 0.0\n",
      "True\n",
      "sp value: 1  np value: 1.0\n",
      "True\n",
      "sp value: 0  np value: 1.2246467991473532e-16\n",
      "False\n",
      "sp value: -1  np value: -1.0\n",
      "True\n",
      "sp value: 0  np value: -2.4492935982947064e-16\n",
      "False\n",
      "sp value: 1  np value: 1.0\n",
      "True\n",
      "sp value: 0  np value: 3.6739403974420594e-16\n",
      "False\n",
      "sp value: -1  np value: -1.0\n",
      "True\n",
      "sp value: 0  np value: -4.898587196589413e-16\n",
      "False\n",
      "sp value: 1  np value: 1.0\n",
      "True\n",
      "sp value: 0  np value: 6.123233995736766e-16\n",
      "False\n"
     ]
    }
   ],
   "source": [
    "import sympy as sp\n",
    "import numpy as np\n",
    "a = np.array([ sp.sin( (sp.pi * k) / 2) for k in range(11)])\n",
    "b = np.array([ np.sin( (np.pi * k) / 2) for k in range(11)])\n",
    "c = a == b\n",
    "for i in range(11):\n",
    "    print('sp value:', a[i], \" np value:\", b[i])\n",
    "    print(a[i] == b[i])"
   ]
  },
  {
   "cell_type": "code",
   "execution_count": 14,
   "metadata": {},
   "outputs": [
    {
     "name": "stdout",
     "output_type": "stream",
     "text": [
      "   2         2   \n",
      "sin (x) + cos (x)\n",
      "\n",
      "After simplify = 1\n"
     ]
    }
   ],
   "source": [
    "# Упрощение символьных выражений\n",
    "import sympy as sp\n",
    "from sympy.abc import x,y \n",
    "v = sp.sin(x)**2 + sp.cos(x)**2\n",
    "sp.pprint(v)\n",
    "print('\\nAfter simplify =', str(sp.simplify(v)))"
   ]
  },
  {
   "cell_type": "code",
   "execution_count": 18,
   "metadata": {},
   "outputs": [
    {
     "name": "stdout",
     "output_type": "stream",
     "text": [
      " 7      2    \n",
      "x  + 3⋅x  - 4\n",
      "─────────────\n",
      "    x - 1    \n",
      "x**6 + x**5 + x**4 + x**3 + x**2 + 4*x + 4\n"
     ]
    }
   ],
   "source": [
    "# УПРАЖНЕНИЕ 3\n",
    "v = (x**7 +3*x**2 - 4)/(x-1)\n",
    "sp.pprint(v)\n",
    "print(str(sp.simplify(sp.factor(v))))"
   ]
  },
  {
   "cell_type": "code",
   "execution_count": 19,
   "metadata": {},
   "outputs": [
    {
     "name": "stdout",
     "output_type": "stream",
     "text": [
      "(x**2 - 2*x + 2)*(x**2 + 2*x + 2)\n",
      "(x + 1)*(x**6 - x**5 + x**4 - x**3 + x**2 - x + 1)\n",
      "(x - y)*(x + 2*y)*(2*x - y)\n"
     ]
    }
   ],
   "source": [
    "# УПРАЖНЕНИЕ 4\n",
    "a = x**4 + 4\n",
    "print(sp.factor(a))\n",
    "b = x**7 + 1\n",
    "print(sp.factor(b))\n",
    "c = 2*x**3 + y*x**2 - 5*x*y**2 + 2*y**3\n",
    "print(sp.factor(c))"
   ]
  },
  {
   "cell_type": "code",
   "execution_count": 20,
   "metadata": {},
   "outputs": [
    {
     "name": "stdout",
     "output_type": "stream",
     "text": [
      "(2 ≤ x ∧ x < ∞) ∨ (x ≤ -2 ∧ -∞ < x)\n"
     ]
    }
   ],
   "source": [
    "# РЕШЕНИЕ НЕРАВЕНСТВ\n",
    "a = sp.solve_univariate_inequality(x**2>=4,x)\n",
    "sp.pprint(a)"
   ]
  },
  {
   "cell_type": "code",
   "execution_count": 92,
   "metadata": {},
   "outputs": [
    {
     "name": "stdout",
     "output_type": "stream",
     "text": [
      "[-3, -√6] ∪ [√6, 3]\n",
      "(-∞, -√6] ∪ [√6, ∞)\n"
     ]
    }
   ],
   "source": [
    "# РЕШЕНИЕ СИСТЕМЫ НЕРАВЕНСТВ\n",
    "a = sp.solve_univariate_inequality(x**2 >= 6, x, relational=False)\n",
    "b = sp.solve_univariate_inequality(x**2 <= 9, x, relational=False)\n",
    "c = sp.Intersection(a,b)\n",
    "sp.pprint(c)\n",
    "sp.pprint(a)"
   ]
  },
  {
   "cell_type": "code",
   "execution_count": 95,
   "metadata": {},
   "outputs": [
    {
     "name": "stdout",
     "output_type": "stream",
     "text": [
      "(-∞, -√6) ∪ (√6, ∞)\n"
     ]
    },
    {
     "data": {
      "text/latex": [
       "$\\displaystyle \\left(-\\infty, -2.449\\right) \\cup \\left(2.449, \\infty\\right)$"
      ],
      "text/plain": [
       "Union(Interval.open(-oo, -2.449), Interval.open(2.449, oo))"
      ]
     },
     "execution_count": 95,
     "metadata": {},
     "output_type": "execute_result"
    }
   ],
   "source": [
    "import sympy as sp\n",
    "from sympy.abc import x\n",
    "a = sp.solve_univariate_inequality(sp.Abs(x**2-3)>3,x, relational=False)\n",
    "sp.N(a,4)"
   ]
  },
  {
   "cell_type": "code",
   "execution_count": 61,
   "metadata": {},
   "outputs": [
    {
     "data": {
      "text/latex": [
       "$\\displaystyle \\left(0.81773, \\infty\\right)$"
      ],
      "text/plain": [
       "Interval.open(0.81773, oo)"
      ]
     },
     "execution_count": 61,
     "metadata": {},
     "output_type": "execute_result"
    }
   ],
   "source": [
    "import sympy as sp\n",
    "from sympy.abc import x\n",
    "b = sp.solve_univariate_inequality( x**3 + 3*x > 3, x, relational = False)\n",
    "sp.N(b,5)"
   ]
  },
  {
   "cell_type": "code",
   "execution_count": 100,
   "metadata": {},
   "outputs": [
    {
     "data": {
      "text/latex": [
       "$\\displaystyle \\left(45.6410785465307, \\infty\\right)$"
      ],
      "text/plain": [
       "Interval.open(45.6410785465307, oo)"
      ]
     },
     "execution_count": 100,
     "metadata": {},
     "output_type": "execute_result"
    }
   ],
   "source": [
    "# ПРИМЕР 5\n",
    "import sympy as sp\n",
    "from sympy.abc import n\n",
    "\n",
    "a = sp.solve_univariate_inequality( sp.Abs( ( (n**3 + 3*n + 10) / \n",
    "            (2*n**3 - 2*n + 5)) - 1/2) < 0.001, n, relational = False)\n",
    "b = sp.solve_univariate_inequality( n > 0, n, relational=False)\n",
    "\n",
    "sp.Intersection(a,b) # => n_0 = 45"
   ]
  },
  {
   "cell_type": "code",
   "execution_count": 62,
   "metadata": {},
   "outputs": [],
   "source": [
    "%reset"
   ]
  },
  {
   "cell_type": "code",
   "execution_count": 70,
   "metadata": {},
   "outputs": [
    {
     "name": "stdout",
     "output_type": "stream",
     "text": [
      "1/2\n"
     ]
    },
    {
     "name": "stderr",
     "output_type": "stream",
     "text": [
      "C:\\Users\\8230989\\AppData\\Local\\Temp\\ipykernel_5960\\1224896205.py:12: RuntimeWarning: divide by zero encountered in divide\n",
      "  x_n = (n**3 - 1)/(2*n**3 + 2*n)\n"
     ]
    },
    {
     "data": {
      "image/png": "[encoded data removed]",
      "text/plain": [
       "<Figure size 640x480 with 1 Axes>"
      ]
     },
     "metadata": {},
     "output_type": "display_data"
    },
    {
     "name": "stdout",
     "output_type": "stream",
     "text": [
      "n(0.01) = 7\n",
      "n(0.001) = 22\n"
     ]
    }
   ],
   "source": [
    "# УПРАЖНЕНИЕ 6\n",
    "import sympy as sp\n",
    "from sympy.abc import n, a, epsilon\n",
    "import numpy as np\n",
    "import matplotlib.pyplot as plt\n",
    "\n",
    "y1 = np.arange(-2,10,1)\n",
    "z1 = np.ones((1,12))*10 # Array like [10, 10, 10 ...]\n",
    "x1 = np.power(z1,y1)\n",
    "n = np.arange(-2,10,1)\n",
    "\n",
    "x_n = (n**3 - 1)/(2*n**3 + 2*n)\n",
    "a = sp.limit(x_n,n, 0)\n",
    "\n",
    "n = sp.symbols('n')\n",
    "expr = ( (1/n)**3 - 1) / ( 2*(1/n)**3 + 2*(1/n))\n",
    "a = sp.limit(expr, n, 0)\n",
    "print(a)\n",
    "\n",
    "@np.vectorize\n",
    "def const_a(x):\n",
    "    return a\n",
    "\n",
    "plt.plot(x1[0], x_n)\n",
    "x = np.linspace(0.01,10**9,1000)\n",
    "plt.plot(x, const_a(x) + 0.04)\n",
    "plt.plot(x, const_a(x) - 0.04)\n",
    "plt.grid()\n",
    "plt.axhline(y = 0, color = 'k')\n",
    "plt.axvline(x = 0, color = 'k')\n",
    "plt.show()\n",
    "\n",
    "e1 = sp.solve_univariate_inequality(sp.Abs(\n",
    "    ( n**3 - 1) / ( 2*n**3 + 2*n) - a) \n",
    "        < 0.01, n, relational=False)\n",
    "e2 = sp.solve_univariate_inequality(n > 0, n, relational=False)\n",
    "sp.Intersection(e1,e2)\n",
    "print('n(0.01) = 7')\n",
    "\n",
    "e1 = sp.solve_univariate_inequality(sp.Abs(\n",
    "    ( n**3 - 1) / ( 2*n**3 + 2*n) - a) \n",
    "        < 0.001, n, relational=False)\n",
    "e2 = sp.solve_univariate_inequality(n > 0, n, relational=False)\n",
    "sp.Intersection(e1,e2)\n",
    "print('n(0.001) = 22')\n"
   ]
  },
  {
   "cell_type": "code",
   "execution_count": 63,
   "metadata": {},
   "outputs": [
    {
     "name": "stdout",
     "output_type": "stream",
     "text": [
      "[-0.36363636 -1.          0.          1.          0.36363636  0.20245399\n",
      "  0.14035088  0.10791367  0.08792904  0.07432854  0.06444526  0.05692296]\n",
      "0\n"
     ]
    },
    {
     "data": {
      "image/png": "[encoded data removed]",
      "text/plain": [
       "<Figure size 640x480 with 1 Axes>"
      ]
     },
     "metadata": {},
     "output_type": "display_data"
    },
    {
     "name": "stdout",
     "output_type": "stream",
     "text": [
      "n(0.01) = 50\n",
      "n(0.001) = 500\n"
     ]
    }
   ],
   "source": [
    "\n",
    "import sympy as sp\n",
    "from sympy.abc import n, a, epsilon\n",
    "import numpy as np\n",
    "import matplotlib.pyplot as plt\n",
    "\n",
    "y1 = np.arange(-2,10,1)\n",
    "z1 = np.ones((1,12))*10 # Array like [10, 10, 10 ...]\n",
    "x1 = np.power(z1,y1)\n",
    "\n",
    "n = np.arange(-2,10,1)\n",
    "\n",
    "x_n = (n**3 + 2*n)/(2*n**4 + 1)\n",
    "print(x_n)\n",
    "a = sp.limit(x_n,n, 0)\n",
    "n = sp.symbols('n')\n",
    "expr = ( (1/n)**3 + 2*(1/n)) / ( 2*(1/n)**4 + 1)\n",
    "a = sp.limit(expr, n, 0)\n",
    "print(a)\n",
    "\n",
    "@np.vectorize\n",
    "def const_a(x):\n",
    "    return a\n",
    "\n",
    "plt.plot(x1[0], x_n)\n",
    "x = np.linspace(0.01,10**9,1000)\n",
    "plt.plot(x, const_a(x) + 0.1)\n",
    "plt.plot(x, const_a(x) - 0.1)\n",
    "plt.grid()\n",
    "plt.axhline(y = 0, color = 'k')\n",
    "plt.axvline(x = 0, color = 'k')\n",
    "plt.show()\n",
    "\n",
    "e1 = sp.solve_univariate_inequality(sp.Abs(\n",
    "    ((n)**3 + 2*(n)) / ( 2*(n)**4 + 1) - a) \n",
    "        < 0.01, n, relational=False)\n",
    "e2 = sp.solve_univariate_inequality(n > 0, n, relational=False)\n",
    "sp.Intersection(e1,e2)\n",
    "print('n(0.01) = 50')\n",
    "\n",
    "e1 = sp.solve_univariate_inequality(sp.Abs(\n",
    "    ((n)**3 + 2*(n)) / ( 2*(n)**4 + 1) - a) \n",
    "        < 0.001, n, relational=False)\n",
    "e2 = sp.solve_univariate_inequality(n > 0, n, relational=False)\n",
    "sp.Intersection(e1,e2)\n",
    "print('n(0.001) = 500')"
   ]
  },
  {
   "cell_type": "code",
   "execution_count": 68,
   "metadata": {},
   "outputs": [
    {
     "name": "stdout",
     "output_type": "stream",
     "text": [
      "1/2\n"
     ]
    }
   ],
   "source": [
    "x = sp.symbols('x')\n",
    "expr = (1/x)**2 / (2*(1/x)**2)\n",
    "print( sp.limit(expr, x, 0))"
   ]
  },
  {
   "cell_type": "code",
   "execution_count": 50,
   "metadata": {},
   "outputs": [
    {
     "name": "stdout",
     "output_type": "stream",
     "text": [
      "(-1.87938524157182 < x ∧ x < 0.347296355333861) ∨ (1.53208888623796 < x ∧ x < \n",
      "∞)\n"
     ]
    }
   ],
   "source": [
    "# УПРАЖНЕНИЕ С1\n",
    "import sympy as sp\n",
    "from sympy.abc import x\n",
    "b = sp.solve_univariate_inequality( x**3 - 3*x > -1.0, x, True)\n",
    "sp.pprint(b)"
   ]
  },
  {
   "cell_type": "code",
   "execution_count": 1,
   "metadata": {},
   "outputs": [
    {
     "name": "stdout",
     "output_type": "stream",
     "text": [
      "2\n"
     ]
    },
    {
     "data": {
      "image/png": "[encoded data removed]",
      "text/plain": [
       "<Figure size 640x480 with 1 Axes>"
      ]
     },
     "metadata": {},
     "output_type": "display_data"
    },
    {
     "name": "stdout",
     "output_type": "stream",
     "text": [
      "n(0.01) = 200\n",
      "n(0.001) = 2000\n"
     ]
    }
   ],
   "source": [
    "# УПРАЖНЕНИЕ С2\n",
    "import sympy as sp\n",
    "from sympy.abc import n, a, epsilon\n",
    "from sympy import oo\n",
    "import numpy as np\n",
    "import matplotlib.pyplot as plt\n",
    "# a)\n",
    "y1 = np.arange(2,16,1)\n",
    "z1 = np.ones((1,14))*10 # Array like [10, 10, 10 ...]\n",
    "x1 = np.power(z1,y1)\n",
    "n = np.arange(2,16,1)\n",
    "x_n = (2*n**5 + 2*n**4 + 3) / (n**5 - 5*n - 10_000)\n",
    "\n",
    "n = sp.symbols('n')\n",
    "expr = (2*n**5 + 2*n**4 + 3) / (n**5 - 5*n - 10_000)\n",
    "a = sp.limit(expr, n, oo)\n",
    "print(a)\n",
    "\n",
    "@np.vectorize\n",
    "def const_a(x):\n",
    "    return a\n",
    "\n",
    "plt.plot(x1[0], x_n)\n",
    "x = np.linspace(0.01,10**15,1000)\n",
    "plt.plot(x, const_a(x) + 0.4)\n",
    "plt.plot(x, const_a(x) - 0.4)\n",
    "plt.grid()\n",
    "plt.axhline(y = 0, color = 'k')\n",
    "plt.axvline(x = 0, color = 'k')\n",
    "plt.show()\n",
    "\n",
    "e1 = sp.solve_univariate_inequality(sp.Abs(\n",
    "    (2*n**5 + 2*n**4 + 3) / (n**5 - 5*n - 10_000) - a) \n",
    "        < 0.01, n, relational=False)\n",
    "e2 = sp.solve_univariate_inequality(n > 0, n, relational=False)\n",
    "sp.Intersection(e1,e2)\n",
    "print('n(0.01) = 200')\n",
    "\n",
    "e1 = sp.solve_univariate_inequality(sp.Abs(\n",
    "    (2*n**5 + 2*n**4 + 3) / (n**5 - 5*n - 10_000) - a) \n",
    "        < 0.001, n, relational=False)\n",
    "e2 = sp.solve_univariate_inequality(n > 0, n, relational=False)\n",
    "sp.Intersection(e1,e2)\n",
    "print('n(0.001) = 2000')"
   ]
  },
  {
   "cell_type": "code",
   "execution_count": 31,
   "metadata": {},
   "outputs": [
    {
     "name": "stdout",
     "output_type": "stream",
     "text": [
      "sqrt(2)\n"
     ]
    },
    {
     "data": {
      "image/png": "[encoded data removed]",
      "text/plain": [
       "<Figure size 640x480 with 1 Axes>"
      ]
     },
     "metadata": {},
     "output_type": "display_data"
    },
    {
     "name": "stdout",
     "output_type": "stream",
     "text": [
      "n(0.01) = 3\n",
      "n(0.001) = 5\n"
     ]
    }
   ],
   "source": [
    "# б)\n",
    "y1 = np.arange(2,5,1)\n",
    "z1 = np.ones((1,3))*10 # Array like [10, 10, 10 ...]\n",
    "x1 = np.power(z1,y1)\n",
    "n = np.arange(2,5,1)\n",
    "x_n = np.sqrt(2*n**5 + 3) / np.sqrt(n**5 - 5)\n",
    "\n",
    "n = sp.symbols('n')\n",
    "expr = sp.sqrt(2*n**5 + 3) / sp.sqrt(n**5 - 5)\n",
    "a = sp.limit(expr, n, oo)\n",
    "print(a)\n",
    "\n",
    "@np.vectorize\n",
    "def const_a(x):\n",
    "    return a\n",
    "\n",
    "plt.plot(x1[0], x_n)\n",
    "x = np.linspace(0.01,10**4,1000)\n",
    "plt.plot(x, const_a(x) + 0.04)\n",
    "plt.plot(x, const_a(x) - 0.04)\n",
    "plt.grid()\n",
    "plt.axhline(y = 0, color = 'k')\n",
    "plt.axvline(x = 0, color = 'k')\n",
    "plt.show()\n",
    "\n",
    "e1 = sp.solve_univariate_inequality(sp.Abs(\n",
    "    sp.sqrt(2*n**5 + 3) / sp.sqrt(n**5 - 5) - a) \n",
    "        < 0.01, n, relational=False)\n",
    "e2 = sp.solve_univariate_inequality(n > 0, n, relational=False)\n",
    "sp.Intersection(e1,e2)\n",
    "print('n(0.01) = 3')\n",
    "\n",
    "e1 = sp.solve_univariate_inequality(sp.Abs(\n",
    "    sp.sqrt(2*n**5 + 3) / sp.sqrt(n**5 - 5) - a) \n",
    "        < 0.001, n, relational=False)\n",
    "e2 = sp.solve_univariate_inequality(n > 0, n, relational=False)\n",
    "sp.Intersection(e1,e2)\n",
    "print('n(0.001) = 5')"
   ]
  },
  {
   "cell_type": "code",
   "execution_count": 51,
   "metadata": {},
   "outputs": [
    {
     "name": "stdout",
     "output_type": "stream",
     "text": [
      "2/3\n"
     ]
    },
    {
     "data": {
      "image/png": "[encoded data removed]",
      "text/plain": [
       "<Figure size 640x480 with 1 Axes>"
      ]
     },
     "metadata": {},
     "output_type": "display_data"
    },
    {
     "data": {
      "text/plain": [
       "\"\\ne1 = sp.solve_univariate_inequality(sp.Abs(\\n    sp.cbrt(n**3 + n**2) - sp.cbrt(n**3 - n**2) - a) \\n        < 0.01, n, True)\\ne2 = sp.solve_univariate_inequality(n > 0, n, True)\\nsp.Intersection(e1,e2)\\nprint('n(0.01) = vvv')\\n\\ne1 = sp.solve_univariate_inequality(sp.Abs(\\n    sp.cbrt(n**3 + n**2) - sp.cbrt(n**3 - n**2) - a) \\n        < 0.001, n, relational=False)\\ne2 = sp.solve_univariate_inequality(n > 0, n, relational=False)\\nsp.Intersection(e1,e2)\\nprint('n(0.001) = vvv')\\n\""
      ]
     },
     "execution_count": 51,
     "metadata": {},
     "output_type": "execute_result"
    }
   ],
   "source": [
    "# в)\n",
    "y1 = np.arange(2,6,1)\n",
    "z1 = np.ones((1,4))*10 # Array like [10, 10, 10 ...]\n",
    "x1 = np.power(z1,y1)\n",
    "n = np.arange(2,6,1)\n",
    "x_n = (n**3 + n**2)**(1/3) - (n**3 - n**2)**(1/3)\n",
    "\n",
    "n = sp.symbols('n')\n",
    "expr = sp.cbrt(n**3 + n**2) - sp.cbrt(n**3 - n**2)\n",
    "a = sp.limit(expr, n, oo)\n",
    "print(a)\n",
    "\n",
    "@np.vectorize\n",
    "def const_a(x):\n",
    "    return a\n",
    "\n",
    "plt.plot(x1[0], x_n)\n",
    "x = np.linspace(0.01,10**5,1000)\n",
    "plt.plot(x, const_a(x) + 0.04)\n",
    "plt.plot(x, const_a(x) - 0.04)\n",
    "plt.grid()\n",
    "plt.axhline(y = 0, color = 'k')\n",
    "plt.axvline(x = 0, color = 'k')\n",
    "plt.show()\n",
    "'''\n",
    "e1 = sp.solve_univariate_inequality(sp.Abs(\n",
    "    sp.cbrt(n**3 + n**2) - sp.cbrt(n**3 - n**2) - a) \n",
    "        < 0.01, n, True)\n",
    "e2 = sp.solve_univariate_inequality(n > 0, n, True)\n",
    "sp.Intersection(e1,e2)\n",
    "print('n(0.01) = vvv')\n",
    "\n",
    "e1 = sp.solve_univariate_inequality(sp.Abs(\n",
    "    sp.cbrt(n**3 + n**2) - sp.cbrt(n**3 - n**2) - a) \n",
    "        < 0.001, n, relational=False)\n",
    "e2 = sp.solve_univariate_inequality(n > 0, n, relational=False)\n",
    "sp.Intersection(e1,e2)\n",
    "print('n(0.001) = vvv')\n",
    "'''"
   ]
  },
  {
   "cell_type": "code",
   "execution_count": 52,
   "metadata": {},
   "outputs": [],
   "source": [
    "# КОНТРОЛЬНЫЕ ВОПРОСЫ\n",
    "# 1) Массив можно задать при помощи либо втроенной конструкции в python\n",
    "#   [ *data* ], либо при используя numpy.array([ *data* ]).\n",
    "#    Символьную переменную можно создать при помощи конструкции типа:\n",
    "#   \" a = 's' \". Также, можно использовать уже созданые символы из \n",
    "#   бибилиотеки sympy, а точнее из части sympy.abc, или через метод symbol('')\n",
    "# 2) Упрощение символьного выражение можно произвести при помощи\n",
    "#   sympy.simplify( *expresion* )\n",
    "# 3) Разложение на множиели можно произвести при помощи sympy.factor (*expr* )\n",
    "# 4) В sp.solve_univariate_inequality() есть параметр \"relational\", который при\n",
    "#   значении True будет выдавать симовльное решение неравенства\n",
    "# 5) (прод. п4). Если же указать relational=False, то мы получим численное\n",
    "#    решение.\n",
    "# 6) Число А явл. пределом последовательности =>\n",
    "#   Для любого наперёд заданного Эпсилон найдётся N, зависящее от Эпсилон\n",
    "#   такое, что для любого n > N(Epsilon) => abs( x_n - A ) < Epsilon"
   ]
  },
  {
   "cell_type": "code",
   "execution_count": null,
   "metadata": {},
   "outputs": [],
   "source": []
  }
 ],
 "metadata": {
  "kernelspec": {
   "display_name": "Python 3",
   "language": "python",
   "name": "python3"
  },
  "language_info": {
   "codemirror_mode": {
    "name": "ipython",
    "version": 3
   },
   "file_extension": ".py",
   "mimetype": "text/x-python",
   "name": "python",
   "nbconvert_exporter": "python",
   "pygments_lexer": "ipython3",
   "version": "3.10.11"
  },
  "orig_nbformat": 4
 },
 "nbformat": 4,
 "nbformat_minor": 2
}
