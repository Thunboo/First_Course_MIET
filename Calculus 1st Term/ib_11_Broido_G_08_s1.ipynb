{
 "cells": [
  {
   "cell_type": "code",
   "execution_count": 2,
   "metadata": {},
   "outputs": [],
   "source": [
    "# ПРОИЗВОДНЫЕ\n",
    "import numpy as np\n",
    "import sympy as sp\n",
    "import matplotlib.pyplot as plt\n"
   ]
  },
  {
   "cell_type": "code",
   "execution_count": 2,
   "metadata": {},
   "outputs": [
    {
     "data": {
      "text/plain": [
       "'\\nПриращение функции в точке х0 - df = df(x0, dx) = f(x0 + dx) - f(x0)\\n'"
      ]
     },
     "execution_count": 2,
     "metadata": {},
     "output_type": "execute_result"
    }
   ],
   "source": [
    "# 1\n",
    "# Вычисление приращений с использований функции\n",
    "'''\n",
    "Приращение функции в точке х0 -> df = df(x0, dx) = f(x0 + dx) - f(x0)\n",
    "'''"
   ]
  },
  {
   "cell_type": "code",
   "execution_count": 5,
   "metadata": {},
   "outputs": [
    {
     "name": "stdout",
     "output_type": "stream",
     "text": [
      "[1 2 3 4]\n"
     ]
    },
    {
     "data": {
      "text/plain": [
       "array([0.49604854, 0.0754194 , 0.0174826 , 0.00471891])"
      ]
     },
     "execution_count": 5,
     "metadata": {},
     "output_type": "execute_result"
    }
   ],
   "source": [
    "# УПРАЖНЕНИЕ 1\n",
    "def f(x):\n",
    "    func = np.exp(-x)*np.sqrt( (x**2 + 1) / (x**4 + 0.1) )\n",
    "    return func\n",
    "x = np.arange(1,5,1)\n",
    "print(x)\n",
    "f(x)"
   ]
  },
  {
   "cell_type": "code",
   "execution_count": 6,
   "metadata": {},
   "outputs": [
    {
     "data": {
      "text/plain": [
       "6.164414002968976"
      ]
     },
     "execution_count": 6,
     "metadata": {},
     "output_type": "execute_result"
    }
   ],
   "source": [
    "# УПРАЖНЕНИЕ 2\n",
    "def radius(x,y,z):\n",
    "    r = np.sqrt(x**2 + y**2 + z**2)\n",
    "    return r\n",
    "radius(2,3,5)"
   ]
  },
  {
   "cell_type": "code",
   "execution_count": 10,
   "metadata": {},
   "outputs": [
    {
     "name": "stdout",
     "output_type": "stream",
     "text": [
      "dy/dx = 0.4880884817015163 x0 = 1.0 dx = 0.1\n",
      "dy/dx = 0.498756211208895 x0 = 1.0 dx = 0.01\n",
      "dy/dx = 0.4998750624609638 x0 = 1.0 dx = 0.001\n",
      "dy/dx = 0.6748988805493583 x0 = 0.5 dx = 0.1\n",
      "dy/dx = 0.7036061667737403 x0 = 0.5 dx = 0.01\n",
      "dy/dx = 0.7067535809079928 x0 = 0.5 dx = 0.001\n",
      "dy/dx = 0.34924112245848793 x0 = 2.0 dx = 0.1\n",
      "dy/dx = 0.35311255026873045 x0 = 2.0 dx = 0.01\n",
      "dy/dx = 0.3535092074644641 x0 = 2.0 dx = 0.001\n"
     ]
    }
   ],
   "source": [
    "# УПРАЖНЕНИЕ 3\n",
    "from sympy import solve, nsolve\n",
    "def dy_dx(x0, dx):\n",
    "    return (np.sqrt(x0 + dx) - np.sqrt(x0))/dx\n",
    "x0 = np.array([1, 0.5, 2])\n",
    "dx = np.array([0.1, 0.01, 0.001])\n",
    "for i in x0:\n",
    "    for j in dx:\n",
    "        print('dy/dx =', dy_dx(i,j), 'x0 =', i, 'dx =', j)"
   ]
  },
  {
   "cell_type": "code",
   "execution_count": 11,
   "metadata": {},
   "outputs": [],
   "source": [
    "# ФУНКЦИИ ОТ ФУНКЦИЙ\n",
    "# ПРИМЕР 4\n",
    "def pr(fname, x):\n",
    "    return np.cos(fname(x))**3"
   ]
  },
  {
   "cell_type": "code",
   "execution_count": 13,
   "metadata": {},
   "outputs": [
    {
     "name": "stdout",
     "output_type": "stream",
     "text": [
      "1.0 0.6802417651762912\n"
     ]
    }
   ],
   "source": [
    "p1 = pr(np.sin, 0)\n",
    "p2 = pr(f, 1)\n",
    "\n",
    "print(p1, p2)"
   ]
  },
  {
   "cell_type": "code",
   "execution_count": 8,
   "metadata": {},
   "outputs": [
    {
     "name": "stdout",
     "output_type": "stream",
     "text": [
      "x0 = 1 dx = 0.001\n",
      "0.3332222839094179\n",
      "x0 = 1 dx = -0.001\n",
      "0.3334445062139757\n",
      "x0 = 2 dx = 0.001\n",
      "0.20995185356076362\n",
      "x0 = 2 dx = -0.001\n",
      "0.2100218491807304\n",
      "x0 = -3 dx = 0.001\n",
      "0.16026776110455998\n",
      "x0 = -3 dx = -0.001\n",
      "0.1602321500029369\n",
      "\n",
      "x0 = 1 dx = 0.001\n",
      "1.3867749251610384\n",
      "x0 = 1 dx = -0.001\n",
      "1.3858140190949886\n",
      "x0 = 2 dx = 0.001\n",
      "2.773549850322077\n",
      "x0 = 2 dx = -0.001\n",
      "2.771628038189533\n",
      "x0 = -3 dx = 0.001\n",
      "0.0866734328225649\n",
      "x0 = -3 dx = -0.001\n",
      "0.08661337619342291\n"
     ]
    }
   ],
   "source": [
    "# УПРАЖНЕНИЕ 4\n",
    "def func_from_func(func, x0, dx):\n",
    "    dy = func(x0 + dx) - func(x0)\n",
    "    return (dy/dx)\n",
    "x0 = np.array([1,2,-3])\n",
    "dx = np.array([0.001, -0.001])\n",
    "for i in x0:\n",
    "    for j in dx:\n",
    "        print('x0 =', i, 'dx =', j)\n",
    "        print( func_from_func( np.cbrt, i, j))\n",
    "print()\n",
    "def two_to_the_x(x):\n",
    "    if x >= 0:\n",
    "        return 2**x\n",
    "    elif x < 0:\n",
    "        return 1 / (2**abs(x))\n",
    "for i in x0:\n",
    "    for j in dx:\n",
    "        print('x0 =', i, 'dx =', j)\n",
    "        print( func_from_func( two_to_the_x, i, j))"
   ]
  },
  {
   "cell_type": "code",
   "execution_count": null,
   "metadata": {},
   "outputs": [],
   "source": [
    "# УПРАЖНЕНИЕ 5\n"
   ]
  },
  {
   "cell_type": "markdown",
   "metadata": {},
   "source": [
    "|     |$y=cbrt(x)$|$y=2^x$ |\n",
    "|-----|-----------|--------|\n",
    "|x0=1 |0.33322... |~1.387  |\n",
    "|     |0.33344... |~1.386  |\n",
    "|x0=2 |0.20995... |~2.774  |\n",
    "|     |~2.1       |~2.772  |\n",
    "|x0=-3|0.160267...|~0.0867 |\n",
    "|     |0.160232...|~0.0866 |"
   ]
  },
  {
   "cell_type": "code",
   "execution_count": 4,
   "metadata": {},
   "outputs": [
    {
     "name": "stdout",
     "output_type": "stream",
     "text": [
      "3*x**2 + 1\n"
     ]
    },
    {
     "data": {
      "text/latex": [
       "$\\displaystyle 13$"
      ],
      "text/plain": [
       "13"
      ]
     },
     "execution_count": 4,
     "metadata": {},
     "output_type": "execute_result"
    }
   ],
   "source": [
    "# 3 СИМВОЛЬНОЕ ВЫЧИСЛЕНИЕ ПРОИЗВОДНОЙ\n",
    "from sympy import *\n",
    "x = symbols('x')\n",
    "#x = Symbol('x')\n",
    "f = x**3 + x\n",
    "y = diff(f,x,1) # Фйнкция, переменная, порядок производной\n",
    "print(y)\n",
    "y.subs(x,2)"
   ]
  },
  {
   "cell_type": "code",
   "execution_count": 6,
   "metadata": {},
   "outputs": [
    {
     "name": "stdout",
     "output_type": "stream",
     "text": [
      "0.580279834244736\n",
      "1.36324364610782*log(3)\n"
     ]
    }
   ],
   "source": [
    "# УПРАЖНЕНИЕ 6\n",
    "# a)\n",
    "from sympy import *\n",
    "x0 = 0.5\n",
    "x = Symbol('x')\n",
    "f = atan(sqrt(x))**2\n",
    "y = diff(f,x,1)\n",
    "print( y.subs(x, x0) )\n",
    "\n",
    "# б)\n",
    "f = 3**(asin(x**2))\n",
    "y = diff(f,x,1)\n",
    "print( y.subs(x, x0) )"
   ]
  },
  {
   "cell_type": "code",
   "execution_count": 7,
   "metadata": {},
   "outputs": [
    {
     "data": {
      "text/plain": [
       "\"\\nПроизводная в точке равна тангенсу угла наклона касательной, проведённой\\nк графику функции в этой точке.\\nУравнение касательной: \\ny = y(x0) + y'(x0)(x-x0)\\ny = y(x0) + y'(x0) * dx\\n\""
      ]
     },
     "execution_count": 7,
     "metadata": {},
     "output_type": "execute_result"
    }
   ],
   "source": [
    "# Геометрический смысл производной\n",
    "'''\n",
    "Производная в точке равна тангенсу угла наклона касательной, проведённой\n",
    "к графику функции в этой точке.\n",
    "Уравнение касательной: \n",
    "y = y(x0) + y'(x0)(x-x0)\n",
    "y = y(x0) + y'(x0) * dx\n",
    "'''"
   ]
  },
  {
   "cell_type": "code",
   "execution_count": 38,
   "metadata": {},
   "outputs": [
    {
     "name": "stderr",
     "output_type": "stream",
     "text": [
      "C:\\Users\\Thunboo\\AppData\\Local\\Temp\\ipykernel_7960\\4212479693.py:24: MatplotlibDeprecationWarning: Auto-removal of overlapping axes is deprecated since 3.6 and will be removed two minor releases later; explicitly call ax.remove() as needed.\n",
      "  plt.subplot(2,1,1)\n"
     ]
    },
    {
     "data": {
      "text/plain": [
       "Text(0.5, 1.0, 'Tangent Line e^2x')"
      ]
     },
     "execution_count": 38,
     "metadata": {},
     "output_type": "execute_result"
    },
    {
     "data": {
      "image/png": "[encoded data removed]",
      "text/plain": [
       "<Figure size 640x480 with 2 Axes>"
      ]
     },
     "metadata": {},
     "output_type": "display_data"
    }
   ],
   "source": [
    "# УПРАЖНЕНИЕ 7\n",
    "import matplotlib.pyplot as plt\n",
    "import numpy as np \n",
    "from sympy import *\n",
    "\n",
    "def plot_tangent_line(func, x0):\n",
    "    x = Symbol('x')\n",
    "    x_value = np.linspace(x0-1, x0+1, 100)\n",
    "    f_prime = diff(func,x,1)\n",
    "    f_x0 = f_prime.subs(x, x0)\n",
    "    tangent_equation = func.subs(x, x0) + f_x0 * (x - x0)\n",
    "    t_l = np.array([tangent_equation.subs(x, i) for i in x_value])\n",
    "    f_v = np.array([func.subs(x,i) for i in x_value])\n",
    "    plt.plot(x_value, t_l)\n",
    "    plt.plot(x_value, f_v)\n",
    "\n",
    "x = Symbol('x')\n",
    "plt.grid()\n",
    "plt.axhline(y=0, color='k')\n",
    "plt.axvline(x=0, color='k')\n",
    "plt.ylabel('y')\n",
    "plt.xlabel('x')\n",
    "\n",
    "plt.subplot(2,1,1)\n",
    "f = cos(3*x)**3\n",
    "plot_tangent_line(f, np.pi/4)\n",
    "plt.title('Tangent Line cos^3 (3x)')\n",
    "\n",
    "plt.subplot(2,1,2)\n",
    "f = exp(2*x)\n",
    "plot_tangent_line(f, 1)\n",
    "plt.title('Tangent Line e^2x')\n"
   ]
  },
  {
   "cell_type": "code",
   "execution_count": 39,
   "metadata": {},
   "outputs": [
    {
     "name": "stdout",
     "output_type": "stream",
     "text": [
      "x0 = 1 dx = 0.001\n",
      "-1.35241314809081\n",
      "x0 = 1 dx = -0.001\n",
      "-1.35649134314142\n",
      "x0 = 2 dx = 0.001\n",
      "-0.0578759172651828\n",
      "x0 = 2 dx = -0.001\n",
      "-0.0580320401109245\n",
      "x0 = -3 dx = 0.001\n",
      "-0.00602254127674180\n",
      "x0 = -3 dx = -0.001\n",
      "-0.00601103853127300\n"
     ]
    }
   ],
   "source": [
    "# ЗАДАНИЯ ДЛЯ САМОСТОЯТЕЛЬНОЙ РАБОТЫ\n",
    "# УПРАЖНЕНИЕ С1-С2\n",
    "def dy_dx(func, x0, dx):\n",
    "    return ( (func(x0 + dx) - func(x0)) / dx )\n",
    "x0 = [1,2,-3]\n",
    "dx = [0.001, -0.001]\n",
    "\n",
    "from sympy import sin\n",
    "def func(x):\n",
    "    return (sin(1/x))**5\n",
    "\n",
    "for i in x0:\n",
    "    for j in dx:\n",
    "        print('x0 =', i, 'dx =', j)\n",
    "        print(dy_dx(func, i, j))"
   ]
  },
  {
   "cell_type": "markdown",
   "metadata": {},
   "source": [
    "|            |$x_0 = 1$      |$x_0 = 1$      |$x_0 = -3$     |\n",
    "|------------|---------------|---------------|---------------|\n",
    "|$y=sin^5(x)$|~-1.3524|~-0.0579|~-0.00602|\n",
    "|            |~-1.3565|~-0.0580|~-0.00601|\n"
   ]
  },
  {
   "cell_type": "code",
   "execution_count": 43,
   "metadata": {},
   "outputs": [
    {
     "name": "stdout",
     "output_type": "stream",
     "text": [
      "1.16077037030236/log(3)\n"
     ]
    }
   ],
   "source": [
    "# УПРАЖНЕНИЕ С3\n",
    "from sympy import *\n",
    "x = Symbol('x')\n",
    "f = (log(x**2 + 1,3)) / ( acos(sin(x))**3 )\n",
    "x0 = 0.5\n",
    "y = diff(f,x,1)\n",
    "y0 = y.subs(x, x0)\n",
    "print(y0)"
   ]
  },
  {
   "cell_type": "code",
   "execution_count": 41,
   "metadata": {},
   "outputs": [
    {
     "data": {
      "text/plain": [
       "'\\n1) Блок-функции имеют структуру:\\n    *Название\\n    *Входные данные\\n    *Выходные данные\\n   Тело функции может иметь некоторые дополнительные вычисления\\n   для функции\\n\\n2) Функцию можно использовать в качестве входного аргумента функции.\\n  В таком случае мы можем получить сложную функцию (функция, зависящая\\n  от другой функции) ( f(g(x)) )\\n\\n3) Символически вычислять производные можно при помощи sympy.diff(func,x,k)\\n  Где func - дифференцируемая функция\\n      x - переменная, по которой дифференцируется функция\\n      k - порядок производной\\n    После этого можно вычислить числовое значение производной в данной\\n    точке х0 используя:\\n      y = diff( func, x, k )\\n      y.subs(x, x0)\\n'"
      ]
     },
     "execution_count": 41,
     "metadata": {},
     "output_type": "execute_result"
    }
   ],
   "source": [
    "# КОНТРОЛЬНЫЕ ВОПРОСЫ\n",
    "'''\n",
    "1) Блок-функции имеют структуру:\n",
    "    *Название\n",
    "    *Входные данные\n",
    "    *Выходные данные\n",
    "   Тело функции может иметь некоторые дополнительные вычисления\n",
    "   для функции\n",
    "\n",
    "2) Функцию можно использовать в качестве входного аргумента функции.\n",
    "  В таком случае мы можем получить сложную функцию (функция, зависящая\n",
    "  от другой функции) ( f(g(x)) )\n",
    "\n",
    "3) Символически вычислять производные можно при помощи sympy.diff(func,x,k)\n",
    "  Где func - дифференцируемая функция\n",
    "      x - переменная, по которой дифференцируется функция\n",
    "      k - порядок производной\n",
    "    После этого можно вычислить числовое значение производной в данной\n",
    "    точке х0 используя:\n",
    "      y = diff( func, x, k )\n",
    "      y.subs(x, x0)\n",
    "'''"
   ]
  },
  {
   "cell_type": "code",
   "execution_count": null,
   "metadata": {},
   "outputs": [],
   "source": []
  }
 ],
 "metadata": {
  "kernelspec": {
   "display_name": "Python 3",
   "language": "python",
   "name": "python3"
  },
  "language_info": {
   "codemirror_mode": {
    "name": "ipython",
    "version": 3
   },
   "file_extension": ".py",
   "mimetype": "text/x-python",
   "name": "python",
   "nbconvert_exporter": "python",
   "pygments_lexer": "ipython3",
   "version": "3.10.11"
  }
 },
 "nbformat": 4,
 "nbformat_minor": 2
}
